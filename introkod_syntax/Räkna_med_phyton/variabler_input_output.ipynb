{
 "metadata": {
  "language_info": {
   "codemirror_mode": {
    "name": "ipython",
    "version": 3
   },
   "file_extension": ".py",
   "mimetype": "text/x-python",
   "name": "python",
   "nbconvert_exporter": "python",
   "pygments_lexer": "ipython3",
   "version": "3.8.3-final"
  },
  "orig_nbformat": 2,
  "kernelspec": {
   "name": "python3",
   "display_name": "Python 3"
  }
 },
 "nbformat": 4,
 "nbformat_minor": 2,
 "cells": [
  {
   "cell_type": "code",
   "execution_count": null,
   "metadata": {
    "tags": []
   },
   "outputs": [],
   "source": []
  },
  {
   "cell_type": "code",
   "execution_count": 31,
   "metadata": {
    "tags": []
   },
   "outputs": [
    {
     "output_type": "stream",
     "name": "stdout",
     "text": "Din tyngdkraft är 608.8N\nDin tyngdkraft är 608.84 N\n"
    }
   ],
   "source": [
    "g = 9.82\n",
    "m = float(input(\"Hur mycket väger du? \"))\n",
    "\n",
    "F = m*g\n",
    "\n",
    "print(f\"Din tyngdkraft är {F:.1f}N\")\n",
    "print(f\"Din tyngdkraft är\",F,\"N\")"
   ]
  },
  {
   "cell_type": "code",
   "execution_count": 35,
   "metadata": {
    "tags": []
   },
   "outputs": [
    {
     "output_type": "stream",
     "name": "stdout",
     "text": "0.44 = 44%\n"
    }
   ],
   "source": [
    "DecimalTal = float(input(\"Ange ett decimaltal: \"))\n",
    "procent = DecimalTal*100\n",
    "\n",
    "print(f\"{DecimalTal} = {procent:.0f}%\")"
   ]
  },
  {
   "cell_type": "code",
   "execution_count": 7,
   "metadata": {
    "tags": []
   },
   "outputs": [
    {
     "output_type": "stream",
     "name": "stdout",
     "text": "Detta gradtal i kelvin:20.0 är -253.14999999999998 \n"
    }
   ],
   "source": [
    "Kelvin = float(input(\"Ange ett grad tal i Kelvin\"))\n",
    "Celcius = Kelvin -273.15\n",
    "# KOmmentar\n",
    "print(f\"Detta gradtal i kelvin:{Kelvin} är {Celcius} Celcius \")"
   ]
  },
  {
   "cell_type": "code",
   "execution_count": null,
   "metadata": {
    "tags": []
   },
   "outputs": [],
   "source": [
    "Celcius = float(input(\"Ange gradtil i Celcius\"))\n",
    "Kelvin = Celcius + 273.15\n",
    "\n",
    "print(f\"Detta gradtal i Celcius:{Celcius} är {Kelvin} Kelvin\")"
   ]
  },
  {
   "cell_type": "code",
   "execution_count": 13,
   "metadata": {
    "tags": []
   },
   "outputs": [
    {
     "output_type": "stream",
     "name": "stdout",
     "text": "köp månadskort\n"
    }
   ],
   "source": [
    "x = float(input(\"Hur många gånger åker du med västtrafik per månad?\"))\n",
    "\n",
    "kostnad = x * 30 \n",
    "if x < 25:\n",
    "    print(f\"köp biljett\")\n",
    "else: print(f\"köp månadskort\") \n"
   ]
  },
  {
   "cell_type": "code",
   "execution_count": null,
   "metadata": {},
   "outputs": [],
   "source": []
  }
 ]
}